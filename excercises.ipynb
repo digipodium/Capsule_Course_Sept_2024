{
 "cells": [
  {
   "cell_type": "code",
   "execution_count": 15,
   "metadata": {},
   "outputs": [
    {
     "name": "stdout",
     "output_type": "stream",
     "text": [
      "593 0\n",
      "59 3\n",
      "5 39\n",
      "395\n"
     ]
    }
   ],
   "source": [
    "# WAP to reverse a number\n",
    "\n",
    "num = int(input('Enter a number : '))\n",
    "reverse = 0\n",
    "\n",
    "while num > 0:\n",
    "    print(num, reverse)\n",
    "    d = num % 10\n",
    "    reverse = reverse * 10 + d\n",
    "    num = num // 10\n",
    "    \n",
    "print(reverse)"
   ]
  },
  {
   "cell_type": "code",
   "execution_count": 17,
   "metadata": {},
   "outputs": [
    {
     "name": "stdout",
     "output_type": "stream",
     "text": [
      "which pizza would you like to order? 1. chicken 2. onion 3. cheese\n",
      "Invalid choice\n"
     ]
    }
   ],
   "source": [
    "# WAP to order pizza\n",
    "print('which pizza would you like to order? 1. chicken 2. onion 3. cheese')\n",
    "\n",
    "pizza = input('enter your choice')\n",
    "\n",
    "if pizza == 'chicken':\n",
    "    print('You have ordered chicken pizza')\n",
    "elif pizza == 'onion':\n",
    "    print('You have ordered onion pizza')\n",
    "elif pizza == 'cheese':\n",
    "    print('You have ordered cheese pizza')\n",
    "else:\n",
    "    print('Invalid choice')"
   ]
  },
  {
   "cell_type": "code",
   "execution_count": null,
   "metadata": {},
   "outputs": [],
   "source": [
    "# WAP to display atm menu"
   ]
  }
 ],
 "metadata": {
  "kernelspec": {
   "display_name": "Python 3",
   "language": "python",
   "name": "python3"
  },
  "language_info": {
   "codemirror_mode": {
    "name": "ipython",
    "version": 3
   },
   "file_extension": ".py",
   "mimetype": "text/x-python",
   "name": "python",
   "nbconvert_exporter": "python",
   "pygments_lexer": "ipython3",
   "version": "3.10.7"
  }
 },
 "nbformat": 4,
 "nbformat_minor": 2
}
