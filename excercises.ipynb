{
 "cells": [
  {
   "cell_type": "code",
   "execution_count": 15,
   "metadata": {},
   "outputs": [
    {
     "name": "stdout",
     "output_type": "stream",
     "text": [
      "593 0\n",
      "59 3\n",
      "5 39\n",
      "395\n"
     ]
    }
   ],
   "source": [
    "# WAP to reverse a number\n",
    "\n",
    "num = int(input('Enter a number : '))\n",
    "reverse = 0\n",
    "\n",
    "while num > 0:\n",
    "    print(num, reverse)\n",
    "    d = num % 10\n",
    "    reverse = reverse * 10 + d\n",
    "    num = num // 10\n",
    "    \n",
    "print(reverse)"
   ]
  },
  {
   "cell_type": "code",
   "execution_count": 17,
   "metadata": {},
   "outputs": [
    {
     "name": "stdout",
     "output_type": "stream",
     "text": [
      "which pizza would you like to order? 1. chicken 2. onion 3. cheese\n",
      "Invalid choice\n"
     ]
    }
   ],
   "source": [
    "# WAP to order pizza\n",
    "print('which pizza would you like to order? 1. chicken 2. onion 3. cheese')\n",
    "\n",
    "pizza = input('enter your choice')\n",
    "\n",
    "if pizza == 'chicken':\n",
    "    print('You have ordered chicken pizza')\n",
    "elif pizza == 'onion':\n",
    "    print('You have ordered onion pizza')\n",
    "elif pizza == 'cheese':\n",
    "    print('You have ordered cheese pizza')\n",
    "else:\n",
    "    print('Invalid choice')"
   ]
  },
  {
   "cell_type": "code",
   "execution_count": null,
   "metadata": {},
   "outputs": [],
   "source": [
    "# WAP to display atm menu"
   ]
  },
  {
   "cell_type": "code",
   "execution_count": 1,
   "metadata": {},
   "outputs": [],
   "source": [
    "# WAP to check if a number divisible by 5 or not\n",
    "# WAP to check if a number divisible by 2 but not by 6\n",
    "# WAP to check if a student is eligible to for exam by entering attendance pecentage and fee status\n",
    "# attendance percentage should be above 70"
   ]
  },
  {
   "cell_type": "code",
   "execution_count": null,
   "metadata": {},
   "outputs": [],
   "source": [
    "# fee_status = input('enter fee status')\n",
    "# if fee_status == 'submitted':"
   ]
  },
  {
   "cell_type": "code",
   "execution_count": 18,
   "metadata": {},
   "outputs": [
    {
     "name": "stdout",
     "output_type": "stream",
     "text": [
      "0 372\n",
      "8 37\n",
      "351 3\n",
      "378 372\n",
      "not armstrong\n"
     ]
    }
   ],
   "source": [
    "# WAP to check if a number is armstrong\n",
    "\n",
    "num = int(input('enter a number'))\n",
    "copy = num\n",
    "result = 0\n",
    "\n",
    "while num>0:\n",
    "    print(result, num)\n",
    "    d = num%10\n",
    "    result = result + d ** 3\n",
    "    num = num//10\n",
    "\n",
    "print(result, copy)\n",
    "if copy == result:\n",
    "    print('armstrong')\n",
    "else:\n",
    "    print('not armstrong')"
   ]
  },
  {
   "cell_type": "code",
   "execution_count": 34,
   "metadata": {},
   "outputs": [
    {
     "name": "stdout",
     "output_type": "stream",
     "text": [
      "perfect square\n"
     ]
    }
   ],
   "source": [
    "# WAP to check if a number is perfect square\n",
    "num1 = int(input( 'enter a number' ))\n",
    "sqrt = num1 ** 0.5\n",
    "\n",
    "if sqrt == int(sqrt):\n",
    "    print('perfect square')\n",
    "else:\n",
    "    print('not a perfect square')"
   ]
  },
  {
   "cell_type": "code",
   "execution_count": 27,
   "metadata": {},
   "outputs": [
    {
     "data": {
      "text/plain": [
       "True"
      ]
     },
     "execution_count": 27,
     "metadata": {},
     "output_type": "execute_result"
    }
   ],
   "source": [
    "5.0 == 5"
   ]
  },
  {
   "cell_type": "code",
   "execution_count": 30,
   "metadata": {},
   "outputs": [
    {
     "data": {
      "text/plain": [
       "False"
      ]
     },
     "execution_count": 30,
     "metadata": {},
     "output_type": "execute_result"
    }
   ],
   "source": [
    "5.1 == 5"
   ]
  },
  {
   "cell_type": "code",
   "execution_count": 3,
   "metadata": {},
   "outputs": [
    {
     "data": {
      "text/plain": [
       "3.3333333333333335"
      ]
     },
     "execution_count": 3,
     "metadata": {},
     "output_type": "execute_result"
    }
   ],
   "source": [
    "10 / 3"
   ]
  },
  {
   "cell_type": "code",
   "execution_count": 4,
   "metadata": {},
   "outputs": [
    {
     "data": {
      "text/plain": [
       "3"
      ]
     },
     "execution_count": 4,
     "metadata": {},
     "output_type": "execute_result"
    }
   ],
   "source": [
    "10 // 3"
   ]
  },
  {
   "cell_type": "code",
   "execution_count": 5,
   "metadata": {},
   "outputs": [
    {
     "data": {
      "text/plain": [
       "1"
      ]
     },
     "execution_count": 5,
     "metadata": {},
     "output_type": "execute_result"
    }
   ],
   "source": [
    "10 % 3"
   ]
  },
  {
   "cell_type": "code",
   "execution_count": 8,
   "metadata": {},
   "outputs": [
    {
     "name": "stdout",
     "output_type": "stream",
     "text": [
      "not eligible for exam\n"
     ]
    }
   ],
   "source": [
    "# WAP to check if a student is eligible to for exam by entering attendance pecentage and fee status\n",
    "# attendance percentage should be above 70\n",
    "\n",
    "att = int(input('enter attendance percentage'))\n",
    "fee_status = input('enter fee status')\n",
    "\n",
    "if att >= 70 and fee_status == 'submitted':\n",
    "    print('eligible for exam')\n",
    "else:\n",
    "    print('not eligible for exam')"
   ]
  },
  {
   "cell_type": "code",
   "execution_count": null,
   "metadata": {},
   "outputs": [],
   "source": [
    "25364753647"
   ]
  },
  {
   "cell_type": "code",
   "execution_count": null,
   "metadata": {},
   "outputs": [
    {
     "data": {
      "text/plain": [
       "17"
      ]
     },
     "execution_count": 9,
     "metadata": {},
     "output_type": "execute_result"
    }
   ],
   "source": [
    "# 3 digit armstrong numbers -  153, 370, 371, 407"
   ]
  },
  {
   "cell_type": "code",
   "execution_count": 10,
   "metadata": {},
   "outputs": [
    {
     "data": {
      "text/plain": [
       "153"
      ]
     },
     "execution_count": 10,
     "metadata": {},
     "output_type": "execute_result"
    }
   ],
   "source": [
    "1 ** 3 + 5 ** 3 + 3 ** 3"
   ]
  },
  {
   "cell_type": "code",
   "execution_count": 23,
   "metadata": {},
   "outputs": [
    {
     "name": "stdout",
     "output_type": "stream",
     "text": [
      "371\n",
      "armstrong\n"
     ]
    }
   ],
   "source": [
    "# WAP to reverse a number\n",
    "\n",
    "num = int(input('Enter a number : '))\n",
    "s = 0\n",
    "backup = num\n",
    "\n",
    "while num > 0:\n",
    "    d = num % 10\n",
    "    s = s + d ** 3\n",
    "    num = num // 10\n",
    "    \n",
    "print(s)\n",
    "\n",
    "if backup == s:\n",
    "    print('armstrong')\n",
    "else:\n",
    "    print('not armstrong')"
   ]
  },
  {
   "cell_type": "code",
   "execution_count": 16,
   "metadata": {},
   "outputs": [
    {
     "data": {
      "text/plain": [
       "153"
      ]
     },
     "execution_count": 16,
     "metadata": {},
     "output_type": "execute_result"
    }
   ],
   "source": [
    "3 ** 3 + 5 ** 3 + 1 ** 3"
   ]
  },
  {
   "cell_type": "code",
   "execution_count": null,
   "metadata": {},
   "outputs": [],
   "source": []
  }
 ],
 "metadata": {
  "kernelspec": {
   "display_name": "Python 3",
   "language": "python",
   "name": "python3"
  },
  "language_info": {
   "codemirror_mode": {
    "name": "ipython",
    "version": 3
   },
   "file_extension": ".py",
   "mimetype": "text/x-python",
   "name": "python",
   "nbconvert_exporter": "python",
   "pygments_lexer": "ipython3",
   "version": "3.10.7"
  }
 },
 "nbformat": 4,
 "nbformat_minor": 2
}
